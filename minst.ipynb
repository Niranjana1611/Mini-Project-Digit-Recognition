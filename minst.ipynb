{
  "nbformat": 4,
  "nbformat_minor": 0,
  "metadata": {
    "colab": {
      "name": "minst.ipynb",
      "provenance": [],
      "authorship_tag": "ABX9TyNfDLJw20RroHVJl4wydDr8",
      "include_colab_link": true
    },
    "kernelspec": {
      "name": "python3",
      "display_name": "Python 3"
    }
  },
  "cells": [
    {
      "cell_type": "markdown",
      "metadata": {
        "id": "view-in-github",
        "colab_type": "text"
      },
      "source": [
        "<a href=\"https://colab.research.google.com/github/Niranjana1611/Mini-Project-Digit-Recognition/blob/master/minst.ipynb\" target=\"_parent\"><img src=\"https://colab.research.google.com/assets/colab-badge.svg\" alt=\"Open In Colab\"/></a>"
      ]
    },
    {
      "cell_type": "code",
      "metadata": {
        "id": "q_kVAEW0VrjT",
        "colab_type": "code",
        "colab": {
          "base_uri": "https://localhost:8080/",
          "height": 35
        },
        "outputId": "3b895564-b406-446e-8ec9-5a59f401280b"
      },
      "source": [
        "import tensorflow as tf\n",
        "import tensorflow.keras as keras\n",
        "tf.__version__"
      ],
      "execution_count": 1,
      "outputs": [
        {
          "output_type": "execute_result",
          "data": {
            "application/vnd.google.colaboratory.intrinsic+json": {
              "type": "string"
            },
            "text/plain": [
              "'2.3.0'"
            ]
          },
          "metadata": {
            "tags": []
          },
          "execution_count": 1
        }
      ]
    },
    {
      "cell_type": "code",
      "metadata": {
        "id": "-wkLzyZHWoFa",
        "colab_type": "code",
        "colab": {
          "base_uri": "https://localhost:8080/",
          "height": 50
        },
        "outputId": "500e59df-988d-4f05-8e15-9401094d4bf6"
      },
      "source": [
        "digit_reg = tf.keras.datasets.mnist\n",
        "(x_train,y_train),(x_test,y_test) = digit_reg.load_data()"
      ],
      "execution_count": 2,
      "outputs": [
        {
          "output_type": "stream",
          "text": [
            "Downloading data from https://storage.googleapis.com/tensorflow/tf-keras-datasets/mnist.npz\n",
            "11493376/11490434 [==============================] - 0s 0us/step\n"
          ],
          "name": "stdout"
        }
      ]
    },
    {
      "cell_type": "code",
      "metadata": {
        "id": "_U__a81NWEL4",
        "colab_type": "code",
        "colab": {
          "base_uri": "https://localhost:8080/",
          "height": 34
        },
        "outputId": "04dbe943-ed4f-4c06-aac1-4e68401620a9"
      },
      "source": [
        "x_train.shape"
      ],
      "execution_count": 3,
      "outputs": [
        {
          "output_type": "execute_result",
          "data": {
            "text/plain": [
              "(60000, 28, 28)"
            ]
          },
          "metadata": {
            "tags": []
          },
          "execution_count": 3
        }
      ]
    },
    {
      "cell_type": "code",
      "metadata": {
        "id": "7mwwY87pWJ_C",
        "colab_type": "code",
        "colab": {
          "base_uri": "https://localhost:8080/",
          "height": 34
        },
        "outputId": "2e4ef003-0b42-4eab-d39a-a619f83ef370"
      },
      "source": [
        "x_test.shape"
      ],
      "execution_count": 4,
      "outputs": [
        {
          "output_type": "execute_result",
          "data": {
            "text/plain": [
              "(10000, 28, 28)"
            ]
          },
          "metadata": {
            "tags": []
          },
          "execution_count": 4
        }
      ]
    },
    {
      "cell_type": "code",
      "metadata": {
        "id": "B4jckhjkW7Yr",
        "colab_type": "code",
        "colab": {
          "base_uri": "https://localhost:8080/",
          "height": 34
        },
        "outputId": "d9374a22-4d73-409d-e287-c2a4d4c02d50"
      },
      "source": [
        "y_train[34]"
      ],
      "execution_count": 5,
      "outputs": [
        {
          "output_type": "execute_result",
          "data": {
            "text/plain": [
              "0"
            ]
          },
          "metadata": {
            "tags": []
          },
          "execution_count": 5
        }
      ]
    },
    {
      "cell_type": "code",
      "metadata": {
        "id": "lW3lAzLGW-AP",
        "colab_type": "code",
        "colab": {
          "base_uri": "https://localhost:8080/",
          "height": 1000
        },
        "outputId": "30a06ca6-ccaf-42c5-901b-b5bd2b0d1eeb"
      },
      "source": [
        "x_train[34]"
      ],
      "execution_count": 6,
      "outputs": [
        {
          "output_type": "execute_result",
          "data": {
            "text/plain": [
              "array([[  0,   0,   0,   0,   0,   0,   0,   0,   0,   0,   0,   0,   0,\n",
              "          0,   0,   0,   0,   0,   0,   0,   0,   0,   0,   0,   0,   0,\n",
              "          0,   0],\n",
              "       [  0,   0,   0,   0,   0,   0,   0,   0,   0,   0,   0,   0,   0,\n",
              "          0,   0,   0,   0,   0,   0,   0,   0,   0,   0,   0,   0,   0,\n",
              "          0,   0],\n",
              "       [  0,   0,   0,   0,   0,   0,   0,   0,   0,   0,   0,   0,   0,\n",
              "          0,   0,   0,   0,   0,   0,   0,   0,   0,   0,   0,   0,   0,\n",
              "          0,   0],\n",
              "       [  0,   0,   0,   0,   0,   0,   0,   0,   0,   0,   0,   0,   0,\n",
              "          0,   0,   0,   0,   0,   0,   0,   0,   0,   0,   0,   0,   0,\n",
              "          0,   0],\n",
              "       [  0,   0,   0,   0,   0,   0,   0,   0,   0,   0,   0,   0,   0,\n",
              "          0,   0,   0,   0,   0,   0,   0,   0,   0,   0,   0,   0,   0,\n",
              "          0,   0],\n",
              "       [  0,   0,   0,   0,   0,   0,   0,   0,   0,   0,   0,   0,   0,\n",
              "          0,  53, 255, 253, 253, 253, 124,   0,   0,   0,   0,   0,   0,\n",
              "          0,   0],\n",
              "       [  0,   0,   0,   0,   0,   0,   0,   0,   0,   0,   0,   0,   0,\n",
              "          0, 180, 253, 251, 251, 251, 251, 145,  62,   0,   0,   0,   0,\n",
              "          0,   0],\n",
              "       [  0,   0,   0,   0,   0,   0,   0,   0,   0,   0,   0,   0,  32,\n",
              "        217, 241, 253, 251, 251, 251, 251, 253, 107,   0,   0,   0,   0,\n",
              "          0,   0],\n",
              "       [  0,   0,   0,   0,   0,   0,   0,   0,   0,   0,   0,   0,  37,\n",
              "        251, 251, 253, 251, 251, 251, 251, 253, 107,   0,   0,   0,   0,\n",
              "          0,   0],\n",
              "       [  0,   0,   0,   0,   0,   0,   0,   0,   0,   0,   0,   0, 166,\n",
              "        251, 251, 253, 251,  96, 148, 251, 253, 107,   0,   0,   0,   0,\n",
              "          0,   0],\n",
              "       [  0,   0,   0,   0,   0,   0,   0,   0,   0,   0,  73, 253, 253,\n",
              "        253, 253, 130,   0,   0, 110, 253, 255, 108,   0,   0,   0,   0,\n",
              "          0,   0],\n",
              "       [  0,   0,   0,   0,   0,   0,   0,   0,   0,   0,  73, 251, 251,\n",
              "        251, 251,   0,   0,   0, 109, 251, 253, 107,   0,   0,   0,   0,\n",
              "          0,   0],\n",
              "       [  0,   0,   0,   0,   0,   0,   0,   0,   0,   0, 202, 251, 251,\n",
              "        251, 225,   0,   0,   6, 129, 251, 253, 107,   0,   0,   0,   0,\n",
              "          0,   0],\n",
              "       [  0,   0,   0,   0,   0,   0,   0,   0,   0,   0, 150, 251, 251,\n",
              "        251,  71,   0,   0, 115, 251, 251, 253, 107,   0,   0,   0,   0,\n",
              "          0,   0],\n",
              "       [  0,   0,   0,   0,   0,   0,   0,   0,   0,   0, 253, 251, 251,\n",
              "        173,  20,   0,   0, 217, 251, 251, 253, 107,   0,   0,   0,   0,\n",
              "          0,   0],\n",
              "       [  0,   0,   0,   0,   0,   0,   0,   0,   0, 182, 255, 253, 216,\n",
              "          0,   0,   0,   0, 218, 253, 253, 182,   0,   0,   0,   0,   0,\n",
              "          0,   0],\n",
              "       [  0,   0,   0,   0,   0,   0,   0,   0,  63, 221, 253, 251, 215,\n",
              "          0,   0,   0,  84, 236, 251, 251,  77,   0,   0,   0,   0,   0,\n",
              "          0,   0],\n",
              "       [  0,   0,   0,   0,   0,   0,   0,   0, 109, 251, 253, 251, 215,\n",
              "          0,   0,  11, 160, 251, 251,  96,   0,   0,   0,   0,   0,   0,\n",
              "          0,   0],\n",
              "       [  0,   0,   0,   0,   0,   0,   0,   0, 109, 251, 253, 251, 137,\n",
              "          0,   0, 150, 251, 251, 251,  71,   0,   0,   0,   0,   0,   0,\n",
              "          0,   0],\n",
              "       [  0,   0,   0,   0,   0,   0,   0,   0, 109, 251, 253, 251,  35,\n",
              "          0, 130, 253, 251, 251, 173,  20,   0,   0,   0,   0,   0,   0,\n",
              "          0,   0],\n",
              "       [  0,   0,   0,   0,   0,   0,   0,   0, 110, 253, 255, 253,  98,\n",
              "        150, 253, 255, 253, 164,   0,   0,   0,   0,   0,   0,   0,   0,\n",
              "          0,   0],\n",
              "       [  0,   0,   0,   0,   0,   0,   0,   0, 109, 251, 253, 251, 251,\n",
              "        251, 251, 253, 251,  35,   0,   0,   0,   0,   0,   0,   0,   0,\n",
              "          0,   0],\n",
              "       [  0,   0,   0,   0,   0,   0,   0,   0,  93, 241, 253, 251, 251,\n",
              "        251, 251, 216, 112,   5,   0,   0,   0,   0,   0,   0,   0,   0,\n",
              "          0,   0],\n",
              "       [  0,   0,   0,   0,   0,   0,   0,   0,   0, 103, 253, 251, 251,\n",
              "        251, 251,   0,   0,   0,   0,   0,   0,   0,   0,   0,   0,   0,\n",
              "          0,   0],\n",
              "       [  0,   0,   0,   0,   0,   0,   0,   0,   0,   0, 124, 251, 225,\n",
              "         71,  71,   0,   0,   0,   0,   0,   0,   0,   0,   0,   0,   0,\n",
              "          0,   0],\n",
              "       [  0,   0,   0,   0,   0,   0,   0,   0,   0,   0,   0,   0,   0,\n",
              "          0,   0,   0,   0,   0,   0,   0,   0,   0,   0,   0,   0,   0,\n",
              "          0,   0],\n",
              "       [  0,   0,   0,   0,   0,   0,   0,   0,   0,   0,   0,   0,   0,\n",
              "          0,   0,   0,   0,   0,   0,   0,   0,   0,   0,   0,   0,   0,\n",
              "          0,   0],\n",
              "       [  0,   0,   0,   0,   0,   0,   0,   0,   0,   0,   0,   0,   0,\n",
              "          0,   0,   0,   0,   0,   0,   0,   0,   0,   0,   0,   0,   0,\n",
              "          0,   0]], dtype=uint8)"
            ]
          },
          "metadata": {
            "tags": []
          },
          "execution_count": 6
        }
      ]
    },
    {
      "cell_type": "code",
      "metadata": {
        "id": "Ef7cLwH4XAjx",
        "colab_type": "code",
        "colab": {
          "base_uri": "https://localhost:8080/",
          "height": 265
        },
        "outputId": "062f3b09-2ba1-4f96-a641-f60a488901b0"
      },
      "source": [
        "import matplotlib.pyplot as plt\n",
        "plt.imshow(x_train[34],cmap=\"gray\")\n",
        "plt.show()"
      ],
      "execution_count": 7,
      "outputs": [
        {
          "output_type": "display_data",
          "data": {
            "image/png": "[encoded data removed]",
            "text/plain": [
              "<Figure size 432x288 with 1 Axes>"
            ]
          },
          "metadata": {
            "tags": [],
            "needs_background": "light"
          }
        }
      ]
    },
    {
      "cell_type": "code",
      "metadata": {
        "id": "Cu6CPGmzXEL0",
        "colab_type": "code",
        "colab": {}
      },
      "source": [
        "model = tf.keras.Sequential()\n",
        "model.add(keras.layers.Flatten())\n",
        "model.add(keras.layers.Dense(512,activation ='relu'))\n",
        "model.add(keras.layers.Dense(10,activation ='softmax'))"
      ],
      "execution_count": 8,
      "outputs": []
    },
    {
      "cell_type": "code",
      "metadata": {
        "id": "p2KFuSjmXPuN",
        "colab_type": "code",
        "colab": {}
      },
      "source": [
        "model.compile(optimizer=\"adam\", loss=\"sparse_categorical_crossentropy\", metrics=\"accuracy\")"
      ],
      "execution_count": 9,
      "outputs": []
    },
    {
      "cell_type": "code",
      "metadata": {
        "id": "gUMO11TNXXFE",
        "colab_type": "code",
        "colab": {
          "base_uri": "https://localhost:8080/",
          "height": 353
        },
        "outputId": "39e29f31-258f-4b52-80b2-48ed6ccec6f0"
      },
      "source": [
        "history = model.fit(x_train, y_train, epochs=10)"
      ],
      "execution_count": 10,
      "outputs": [
        {
          "output_type": "stream",
          "text": [
            "Epoch 1/10\n",
            "1875/1875 [==============================] - 6s 3ms/step - loss: 2.7266 - accuracy: 0.9044\n",
            "Epoch 2/10\n",
            "1875/1875 [==============================] - 6s 3ms/step - loss: 0.3204 - accuracy: 0.9375\n",
            "Epoch 3/10\n",
            "1875/1875 [==============================] - 6s 3ms/step - loss: 0.3029 - accuracy: 0.9408\n",
            "Epoch 4/10\n",
            "1875/1875 [==============================] - 6s 3ms/step - loss: 0.2650 - accuracy: 0.9472\n",
            "Epoch 5/10\n",
            "1875/1875 [==============================] - 6s 3ms/step - loss: 0.2462 - accuracy: 0.9505\n",
            "Epoch 6/10\n",
            "1875/1875 [==============================] - 6s 3ms/step - loss: 0.2217 - accuracy: 0.9537\n",
            "Epoch 7/10\n",
            "1875/1875 [==============================] - 6s 3ms/step - loss: 0.2145 - accuracy: 0.9548\n",
            "Epoch 8/10\n",
            "1875/1875 [==============================] - 6s 3ms/step - loss: 0.2068 - accuracy: 0.9578\n",
            "Epoch 9/10\n",
            "1875/1875 [==============================] - 6s 3ms/step - loss: 0.2005 - accuracy: 0.9591\n",
            "Epoch 10/10\n",
            "1875/1875 [==============================] - 6s 3ms/step - loss: 0.1966 - accuracy: 0.9603\n"
          ],
          "name": "stdout"
        }
      ]
    },
    {
      "cell_type": "code",
      "metadata": {
        "id": "vWrulGf9Xa5h",
        "colab_type": "code",
        "colab": {
          "base_uri": "https://localhost:8080/",
          "height": 235
        },
        "outputId": "c51a3bb6-d7c9-4cb8-a8dd-34f1cfba1ab1"
      },
      "source": [
        "y_pred = model.predict(x_test)\n",
        "y_pred"
      ],
      "execution_count": 11,
      "outputs": [
        {
          "output_type": "execute_result",
          "data": {
            "text/plain": [
              "array([[0.0000000e+00, 2.3434141e-14, 1.3469330e-35, ..., 1.0000000e+00,\n",
              "        1.2893164e-23, 1.4277689e-16],\n",
              "       [1.0248432e-31, 2.1429809e-26, 1.0000000e+00, ..., 1.0146642e-21,\n",
              "        4.0654310e-37, 0.0000000e+00],\n",
              "       [4.7111273e-37, 1.0000000e+00, 0.0000000e+00, ..., 2.3181475e-35,\n",
              "        6.3154814e-27, 0.0000000e+00],\n",
              "       ...,\n",
              "       [0.0000000e+00, 5.1896983e-37, 1.0416860e-37, ..., 2.1769600e-34,\n",
              "        1.5551547e-21, 2.1795051e-24],\n",
              "       [1.5495712e-20, 0.0000000e+00, 3.2870855e-25, ..., 4.9278472e-30,\n",
              "        1.3360085e-11, 7.0621173e-33],\n",
              "       [5.7101111e-20, 0.0000000e+00, 3.3031985e-26, ..., 0.0000000e+00,\n",
              "        2.2957034e-23, 0.0000000e+00]], dtype=float32)"
            ]
          },
          "metadata": {
            "tags": []
          },
          "execution_count": 11
        }
      ]
    },
    {
      "cell_type": "code",
      "metadata": {
        "id": "Mq1Ph5mvdqlS",
        "colab_type": "code",
        "colab": {
          "base_uri": "https://localhost:8080/",
          "height": 67
        },
        "outputId": "6ed60911-85b5-4bd1-c87f-688aed317329"
      },
      "source": [
        "y_pred[0]"
      ],
      "execution_count": 12,
      "outputs": [
        {
          "output_type": "execute_result",
          "data": {
            "text/plain": [
              "array([0.0000000e+00, 2.3434141e-14, 1.3469330e-35, 3.4575193e-22,\n",
              "       1.1548991e-37, 2.7487820e-38, 0.0000000e+00, 1.0000000e+00,\n",
              "       1.2893164e-23, 1.4277689e-16], dtype=float32)"
            ]
          },
          "metadata": {
            "tags": []
          },
          "execution_count": 12
        }
      ]
    },
    {
      "cell_type": "code",
      "metadata": {
        "id": "6RU84nSld2GL",
        "colab_type": "code",
        "colab": {}
      },
      "source": [
        "import numpy as np"
      ],
      "execution_count": 13,
      "outputs": []
    },
    {
      "cell_type": "code",
      "metadata": {
        "id": "NcnAdLdwdxXF",
        "colab_type": "code",
        "colab": {
          "base_uri": "https://localhost:8080/",
          "height": 104
        },
        "outputId": "a9d89ca0-2106-4787-a97f-5c4c4581b2e7"
      },
      "source": [
        "y_pred = model.predict_classes(x_test)\n",
        "y_pred"
      ],
      "execution_count": 14,
      "outputs": [
        {
          "output_type": "stream",
          "text": [
            "WARNING:tensorflow:From <ipython-input-14-41a58b04bb02>:1: Sequential.predict_classes (from tensorflow.python.keras.engine.sequential) is deprecated and will be removed after 2021-01-01.\n",
            "Instructions for updating:\n",
            "Please use instead:* `np.argmax(model.predict(x), axis=-1)`,   if your model does multi-class classification   (e.g. if it uses a `softmax` last-layer activation).* `(model.predict(x) > 0.5).astype(\"int32\")`,   if your model does binary classification   (e.g. if it uses a `sigmoid` last-layer activation).\n"
          ],
          "name": "stdout"
        },
        {
          "output_type": "execute_result",
          "data": {
            "text/plain": [
              "array([7, 2, 1, ..., 4, 5, 6])"
            ]
          },
          "metadata": {
            "tags": []
          },
          "execution_count": 14
        }
      ]
    },
    {
      "cell_type": "code",
      "metadata": {
        "id": "XdxfqEa5eI1o",
        "colab_type": "code",
        "colab": {
          "base_uri": "https://localhost:8080/",
          "height": 34
        },
        "outputId": "f2aa0d1b-23be-4692-c0fc-3eb6c26c52ad"
      },
      "source": [
        "np.argmax(model.predict(x_test), axis=-1)"
      ],
      "execution_count": 15,
      "outputs": [
        {
          "output_type": "execute_result",
          "data": {
            "text/plain": [
              "array([7, 2, 1, ..., 4, 5, 6])"
            ]
          },
          "metadata": {
            "tags": []
          },
          "execution_count": 15
        }
      ]
    },
    {
      "cell_type": "code",
      "metadata": {
        "id": "2Eg7olXZeOeO",
        "colab_type": "code",
        "colab": {
          "base_uri": "https://localhost:8080/",
          "height": 34
        },
        "outputId": "26479d24-00f5-4426-fbb5-1c65ba9bcfa1"
      },
      "source": [
        "np.argmax(y_pred[0])"
      ],
      "execution_count": 16,
      "outputs": [
        {
          "output_type": "execute_result",
          "data": {
            "text/plain": [
              "0"
            ]
          },
          "metadata": {
            "tags": []
          },
          "execution_count": 16
        }
      ]
    },
    {
      "cell_type": "code",
      "metadata": {
        "id": "dOXD45CFeTPu",
        "colab_type": "code",
        "colab": {}
      },
      "source": [
        "from sklearn.metrics import accuracy_score, confusion_matrix"
      ],
      "execution_count": 17,
      "outputs": []
    },
    {
      "cell_type": "code",
      "metadata": {
        "id": "7gLvTgIWeXzY",
        "colab_type": "code",
        "colab": {
          "base_uri": "https://localhost:8080/",
          "height": 34
        },
        "outputId": "aeeefa13-947e-4f81-ebc5-e8ad8963792a"
      },
      "source": [
        "accuracy_score(y_pred,y_test)"
      ],
      "execution_count": 18,
      "outputs": [
        {
          "output_type": "execute_result",
          "data": {
            "text/plain": [
              "0.9499"
            ]
          },
          "metadata": {
            "tags": []
          },
          "execution_count": 18
        }
      ]
    },
    {
      "cell_type": "code",
      "metadata": {
        "id": "ZdbujgKheaaa",
        "colab_type": "code",
        "colab": {
          "base_uri": "https://localhost:8080/",
          "height": 185
        },
        "outputId": "fc36726d-a583-4333-cf61-3d33b8b024bf"
      },
      "source": [
        "confusion_matrix(y_pred,y_test)"
      ],
      "execution_count": 19,
      "outputs": [
        {
          "output_type": "execute_result",
          "data": {
            "text/plain": [
              "array([[ 952,    0,    3,    1,    1,    0,    6,    0,    3,    3],\n",
              "       [   1, 1115,    4,    2,    2,    0,    3,    8,    0,    4],\n",
              "       [   2,    3,  976,   11,    5,    1,    2,   10,    2,    2],\n",
              "       [   0,    0,    6,  938,    0,   14,    0,    6,   13,    8],\n",
              "       [   1,    0,    1,    0,  927,    2,    7,    4,    8,   12],\n",
              "       [   1,    3,    0,   17,    0,  818,    4,    0,    5,    7],\n",
              "       [   7,    2,    7,    0,   12,   11,  921,    0,    4,    0],\n",
              "       [   2,    1,   12,    4,    1,    3,    0,  978,    2,   10],\n",
              "       [  14,   11,   23,   27,    7,   36,   14,    4,  928,   17],\n",
              "       [   0,    0,    0,   10,   27,    7,    1,   18,    9,  946]])"
            ]
          },
          "metadata": {
            "tags": []
          },
          "execution_count": 19
        }
      ]
    },
    {
      "cell_type": "code",
      "metadata": {
        "id": "9Zh6GhNoeezE",
        "colab_type": "code",
        "colab": {
          "base_uri": "https://localhost:8080/",
          "height": 282
        },
        "outputId": "36e04f34-d957-4465-cf90-54f6ff4f4ca3"
      },
      "source": [
        "plt.plot(history.history['accuracy'])"
      ],
      "execution_count": 20,
      "outputs": [
        {
          "output_type": "execute_result",
          "data": {
            "text/plain": [
              "[<matplotlib.lines.Line2D at 0x7f34d31b8f98>]"
            ]
          },
          "metadata": {
            "tags": []
          },
          "execution_count": 20
        },
        {
          "output_type": "display_data",
          "data": {
            "image/png": "[encoded data removed]",
            "text/plain": [
              "<Figure size 432x288 with 1 Axes>"
            ]
          },
          "metadata": {
            "tags": [],
            "needs_background": "light"
          }
        }
      ]
    },
    {
      "cell_type": "code",
      "metadata": {
        "id": "nx45cuDPekRz",
        "colab_type": "code",
        "colab": {
          "base_uri": "https://localhost:8080/",
          "height": 1000
        },
        "outputId": "3b572918-f4d9-423a-fbb3-a71fae11c7c5"
      },
      "source": [
        "model.get_weights()"
      ],
      "execution_count": 21,
      "outputs": [
        {
          "output_type": "execute_result",
          "data": {
            "text/plain": [
              "[array([[-0.05110516,  0.06443401, -0.01761875, ...,  0.01181133,\n",
              "         -0.00242335, -0.02621555],\n",
              "        [-0.05498419, -0.00579507, -0.06466901, ...,  0.02667076,\n",
              "          0.04315899,  0.02245745],\n",
              "        [-0.01247377,  0.00935841,  0.01514488, ...,  0.05671247,\n",
              "          0.00824964,  0.05381521],\n",
              "        ...,\n",
              "        [-0.00508028, -0.06631377, -0.0630232 , ...,  0.05109625,\n",
              "          0.02459266,  0.04918487],\n",
              "        [-0.05872274, -0.01204475, -0.01497472, ...,  0.00324614,\n",
              "         -0.05069626,  0.05046266],\n",
              "        [ 0.05445586,  0.02429907, -0.05436539, ...,  0.00218105,\n",
              "         -0.04234129, -0.06292956]], dtype=float32),\n",
              " array([-0.06067466, -0.05082039, -0.09516323, -0.04748894, -0.02002318,\n",
              "        -0.02580476, -0.03438058, -0.04132454, -0.04191414, -0.04304393,\n",
              "        -0.02095604, -0.01919549, -0.06517477, -0.03441745, -0.12125246,\n",
              "        -0.04879443, -0.03280611, -0.0363185 , -0.04418721,  0.0032492 ,\n",
              "        -0.07244819,  0.00662212, -0.02417598, -0.0452512 , -0.13130924,\n",
              "        -0.02100127, -0.06266857, -0.02857321, -0.04653818, -0.07124523,\n",
              "        -0.03370161, -0.03522712, -0.05213273, -0.02724267, -0.03491556,\n",
              "        -0.05136516, -0.03274024, -0.05708738, -0.00153761, -0.04958294,\n",
              "        -0.01051089, -0.02439174, -0.06990186, -0.01721028, -0.04973419,\n",
              "        -0.04107094, -0.05000456, -0.06747088, -0.04704186, -0.04936539,\n",
              "        -0.04434229, -0.02580997, -0.0564517 , -0.01032611, -0.04283037,\n",
              "        -0.03902094, -0.03185945, -0.04260299, -0.13206348, -0.04342441,\n",
              "        -0.03919365, -0.05931194, -0.008354  , -0.01618872, -0.01743204,\n",
              "        -0.03549448, -0.0232937 , -0.01928562, -0.0412171 , -0.02914046,\n",
              "        -0.03046848, -0.04720759, -0.05995341, -0.06412639, -0.03322122,\n",
              "        -0.02493984, -0.04614801, -0.06016007, -0.03639208, -0.07889815,\n",
              "        -0.02314906, -0.02592175, -0.03398968, -0.14373122, -0.05964055,\n",
              "         0.0846258 , -0.00774133, -0.06308121, -0.06251273, -0.08657902,\n",
              "        -0.02996168, -0.0932544 , -0.05382107, -0.07408313, -0.01990953,\n",
              "        -0.06641716, -0.07272144, -0.02357299, -0.02124367, -0.1728721 ,\n",
              "        -0.0477815 , -0.02659921, -0.03947237, -0.14357471, -0.01534743,\n",
              "        -0.04243806, -0.04892893, -0.04569215, -0.02124873, -0.02407304,\n",
              "        -0.01624766, -0.07021508, -0.04227976, -0.04582933, -0.02873682,\n",
              "        -0.03850263, -0.092915  , -0.05190049, -0.02595276, -0.01213719,\n",
              "        -0.04977049, -0.02313718, -0.04996593, -0.03395342, -0.02294062,\n",
              "        -0.0415479 , -0.02846709, -0.03858567, -0.04283075, -0.04476012,\n",
              "        -0.1890515 , -0.02289572, -0.01717659, -0.04939778, -0.05525525,\n",
              "        -0.03957338, -0.04606291, -0.05564957, -0.04005478, -0.04312042,\n",
              "        -0.04005564, -0.05253337, -0.08379854, -0.04003798, -0.01398883,\n",
              "        -0.04346821, -0.04154261, -0.02198355, -0.04503283, -0.05669739,\n",
              "        -0.01880058, -0.01841396, -0.02355661, -0.03346792, -0.02616904,\n",
              "        -0.03996433, -0.05288348, -0.03747247, -0.04499738, -0.02674167,\n",
              "        -0.01086827, -0.02213691, -0.14215273, -0.02343244, -0.11711255,\n",
              "        -0.05006485, -0.04312267, -0.05251507, -0.0366757 , -0.04149905,\n",
              "        -0.25776958, -0.02172956, -0.08690856, -0.06182395, -0.0849635 ,\n",
              "        -0.02381834, -0.02259852, -0.06633557, -0.12141983, -0.07609833,\n",
              "        -0.01981714, -0.07604242, -0.03741599, -0.03602687, -0.05530377,\n",
              "        -0.02147822, -0.03566764, -0.02446582, -0.01302155, -0.0375105 ,\n",
              "        -0.01868185, -0.12056784, -0.02879044, -0.05274292, -0.07181241,\n",
              "        -0.08248758, -0.07072961, -0.03525835, -0.04814092, -0.04619081,\n",
              "        -0.02173482, -0.03219308, -0.04566   , -0.22987638, -0.11740731,\n",
              "        -0.0154702 , -0.10632915, -0.0935475 , -0.03138455, -0.04409816,\n",
              "        -0.06989284, -0.03267005, -0.08879743, -0.13074389, -0.04385713,\n",
              "        -0.04636557, -0.03462103, -0.02241129, -0.01581775, -0.00366418,\n",
              "        -0.0884532 , -0.03198038, -0.04180048, -0.05284092, -0.04017064,\n",
              "        -0.05023248, -0.05962776, -0.01091979, -0.04132076, -0.10429817,\n",
              "        -0.06327028, -0.04518439, -0.07682892, -0.05883879, -0.0658213 ,\n",
              "        -0.02047743, -0.02944792, -0.04798416, -0.03565754, -0.05490493,\n",
              "        -0.05583872, -0.01460665, -0.03532726, -0.05770873, -0.02495212,\n",
              "        -0.04156566, -0.06564526, -0.02272801, -0.0131653 , -0.01549839,\n",
              "        -0.02333328, -0.0383108 , -0.06686369, -0.05596409, -0.05917441,\n",
              "        -0.02158604, -0.05487016, -0.02339518, -0.02417713, -0.06215757,\n",
              "        -0.02076192, -0.07095141, -0.05720625, -0.05359263, -0.08159077,\n",
              "        -0.06321277, -0.03023214, -0.23924664, -0.07490699, -0.04324293,\n",
              "        -0.0533654 , -0.03900198, -0.03027645, -0.06410223, -0.08895726,\n",
              "        -0.04235382, -0.03447616, -0.0217803 , -0.0470257 , -0.04574896,\n",
              "        -0.12589651, -0.03174952, -0.03651246, -0.03267721, -0.02366568,\n",
              "        -0.02306883, -0.07409374, -0.08301336, -0.07304917, -0.03041673,\n",
              "        -0.02372391, -0.05401265, -0.09938443, -0.03751049, -0.03375805,\n",
              "        -0.04812262, -0.0498706 , -0.00850422, -0.06684361, -0.24014495,\n",
              "        -0.07844266, -0.02894933, -0.0449425 , -0.04977695, -0.05147062,\n",
              "        -0.02893711, -0.10500134, -0.02399173, -0.04514746, -0.08547436,\n",
              "        -0.06431803, -0.05152489, -0.02877722, -0.0647493 , -0.02110709,\n",
              "        -0.05585309, -0.02348126, -0.0521252 , -0.04953845, -0.01735911,\n",
              "        -0.02009141, -0.03947196, -0.04073674, -0.04711848, -0.02813249,\n",
              "        -0.06602419, -0.05139484, -0.02105707, -0.01758941, -0.05671493,\n",
              "        -0.0269371 ,  0.01803627,  0.02676358, -0.05417988, -0.04942492,\n",
              "        -0.05202149, -0.02734348, -0.04687479, -0.0456029 , -0.01664662,\n",
              "        -0.08694448, -0.05198427, -0.09449792, -0.10708921, -0.13219282,\n",
              "        -0.02932007, -0.0629591 , -0.08054963, -0.06121559, -0.05480896,\n",
              "        -0.04167935, -0.04208495, -0.03035069, -0.04975183, -0.00775241,\n",
              "        -0.02185845, -0.05418294, -0.01936869, -0.01897551, -0.03171191,\n",
              "        -0.01937497, -0.01611559, -0.02542314, -0.08869407, -0.03236639,\n",
              "        -0.04778197, -0.02198245, -0.08481732, -0.0892126 , -0.03121994,\n",
              "        -0.02631616, -0.11628802, -0.00113984, -0.0239799 , -0.02029554,\n",
              "        -0.03126883, -0.09299719, -0.03868941, -0.12414505, -0.06707367,\n",
              "        -0.06839511, -0.03298879, -0.03461049, -0.03697654, -0.02904839,\n",
              "        -0.04727243, -0.03263701, -0.04303476, -0.06202118, -0.05080126,\n",
              "        -0.08844307, -0.05777382, -0.04178799, -0.04837223, -0.01213887,\n",
              "        -0.0666999 , -0.02669845, -0.13660087, -0.02107727, -0.03426556,\n",
              "        -0.04590128, -0.0516431 ,  0.02475406, -0.05357456, -0.05195993,\n",
              "        -0.03588317, -0.07267992, -0.04246399, -0.04124839, -0.02616985,\n",
              "        -0.0575399 , -0.07949275, -0.02040735, -0.06962124, -0.16126923,\n",
              "        -0.00816344, -0.03196738, -0.03807276, -0.01964274, -0.05527812,\n",
              "        -0.06792286, -0.03675111, -0.24123827, -0.06300088, -0.03823404,\n",
              "        -0.02872879, -0.03017759, -0.07676626, -0.02117547, -0.02751295,\n",
              "        -0.01700038, -0.03859945, -0.14973119, -0.16937813, -0.06203953,\n",
              "        -0.04454811, -0.03746633, -0.04702681,  0.00649037, -0.04522709,\n",
              "        -0.04054554, -0.02125975, -0.03622167, -0.0022349 , -0.04169204,\n",
              "        -0.09330915, -0.02859306, -0.07367982, -0.06272499, -0.04337287,\n",
              "        -0.03442435, -0.10124097, -0.06275517, -0.04576251, -0.0558391 ,\n",
              "        -0.09964839, -0.01519696, -0.03219688, -0.05039247, -0.08255651,\n",
              "        -0.02944434, -0.04383393, -0.07309617, -0.0341324 , -0.01543327,\n",
              "        -0.03731837, -0.02576744, -0.04288129, -0.01996625, -0.04230468,\n",
              "        -0.01851546, -0.02700741, -0.02508635, -0.10999674, -0.03148347,\n",
              "         0.04183345, -0.03759715, -0.18564291, -0.02785787, -0.05292726,\n",
              "         0.00364565, -0.01792159, -0.05397453, -0.01706732, -0.02247556,\n",
              "        -0.0359561 , -0.05663083, -0.0987255 , -0.06656096, -0.03541492,\n",
              "        -0.09288326, -0.09603427, -0.05574838, -0.05261949, -0.04533716,\n",
              "        -0.02823419, -0.03407782, -0.03883756, -0.03143407, -0.02347735,\n",
              "        -0.04056013, -0.06355174, -0.04261884, -0.04371336, -0.0357781 ,\n",
              "         0.00967331, -0.03418553, -0.0442255 , -0.04867595, -0.02989236,\n",
              "        -0.01433934, -0.08220039], dtype=float32),\n",
              " array([[ 0.05643272, -0.07001998,  0.04536909, ...,  0.06817137,\n",
              "          0.03892039,  0.05436872],\n",
              "        [ 0.03277306,  0.04369162,  0.03680399, ...,  0.11955968,\n",
              "          0.01666121, -0.10059147],\n",
              "        [ 0.05393118, -0.05195593,  0.01560918, ...,  0.00300949,\n",
              "          0.04335961,  0.01263151],\n",
              "        ...,\n",
              "        [-0.00847398, -0.03065358,  0.03370793, ..., -0.02357041,\n",
              "         -0.05276155,  0.04888555],\n",
              "        [-0.03960877, -0.02783958,  0.01379278, ..., -0.02813271,\n",
              "         -0.02183764,  0.0003719 ],\n",
              "        [ 0.02666288,  0.03734474,  0.02269346, ..., -0.05820844,\n",
              "          0.02155977,  0.05842358]], dtype=float32),\n",
              " array([ 0.9327985 , -0.83477116,  0.2007446 , -0.33156276, -0.38533083,\n",
              "        -0.20825526, -0.2863528 , -0.8437162 ,  1.2501087 ,  0.08540092],\n",
              "       dtype=float32)]"
            ]
          },
          "metadata": {
            "tags": []
          },
          "execution_count": 21
        }
      ]
    },
    {
      "cell_type": "code",
      "metadata": {
        "id": "3ZVQ6Rnpesn0",
        "colab_type": "code",
        "colab": {}
      },
      "source": [
        "model.save('model_digit.h5')"
      ],
      "execution_count": 22,
      "outputs": []
    },
    {
      "cell_type": "code",
      "metadata": {
        "id": "69vdB2NEYkU4",
        "colab_type": "code",
        "colab": {}
      },
      "source": [
        ""
      ],
      "execution_count": 22,
      "outputs": []
    }
  ]
}